{
 "cells": [
  {
   "cell_type": "code",
   "execution_count": 1,
   "id": "bcc31e5c",
   "metadata": {},
   "outputs": [],
   "source": [
    "import numpy as np\n",
    "import math\n",
    "from bs4 import BeautifulSoup as bs\n",
    "from requests import get\n",
    "from operator import itemgetter\n",
    "import pandas as pd\n",
    "import re\n",
    "import datetime\n",
    "import regex as r"
   ]
  },
  {
   "cell_type": "code",
   "execution_count": 2,
   "id": "7cc7e99c",
   "metadata": {},
   "outputs": [],
   "source": [
    "dirty_df = pd.read_csv('stats.csv')"
   ]
  },
  {
   "cell_type": "code",
   "execution_count": 3,
   "id": "c50eb336",
   "metadata": {},
   "outputs": [],
   "source": [
    "dirty_df.Column1=dirty_df.Column1.astype(str)"
   ]
  },
  {
   "cell_type": "code",
   "execution_count": 4,
   "id": "e46c760e",
   "metadata": {},
   "outputs": [],
   "source": [
    "dirty_df = dirty_df[\n",
    "    (dirty_df.Column1 != 'nan')&\n",
    "    (dirty_df.Column1 != 'ReorderView Receipt')].drop(\n",
    "    columns=['Unnamed: 4','Unnamed: 5','Unnamed: 6','Unnamed: 7'])"
   ]
  },
  {
   "cell_type": "code",
   "execution_count": 5,
   "id": "b4d45701",
   "metadata": {},
   "outputs": [],
   "source": [
    "dirty_df = dirty_df.replace(np.nan,'')"
   ]
  },
  {
   "cell_type": "code",
   "execution_count": 6,
   "id": "8654bc0a",
   "metadata": {
    "scrolled": true
   },
   "outputs": [],
   "source": [
    "dirty_df.Column2=dirty_df.Column2 +' '+ dirty_df.Column3 +' '+ dirty_df.Column4"
   ]
  },
  {
   "cell_type": "code",
   "execution_count": 7,
   "id": "3af7b1f2",
   "metadata": {},
   "outputs": [],
   "source": [
    "dirty_df=dirty_df.drop(columns=['Column3','Column4'])\n",
    "dirty_df=dirty_df[dirty_df.Column1.str.startswith('•')!= True]"
   ]
  },
  {
   "cell_type": "code",
   "execution_count": 8,
   "id": "94186914",
   "metadata": {},
   "outputs": [
    {
     "data": {
      "text/html": [
       "<div>\n",
       "<style scoped>\n",
       "    .dataframe tbody tr th:only-of-type {\n",
       "        vertical-align: middle;\n",
       "    }\n",
       "\n",
       "    .dataframe tbody tr th {\n",
       "        vertical-align: top;\n",
       "    }\n",
       "\n",
       "    .dataframe thead th {\n",
       "        text-align: right;\n",
       "    }\n",
       "</style>\n",
       "<table border=\"1\" class=\"dataframe\">\n",
       "  <thead>\n",
       "    <tr style=\"text-align: right;\">\n",
       "      <th></th>\n",
       "      <th>Column1</th>\n",
       "      <th>Column2</th>\n",
       "    </tr>\n",
       "  </thead>\n",
       "  <tbody>\n",
       "    <tr>\n",
       "      <th>2</th>\n",
       "      <td>Rice N Go</td>\n",
       "      <td></td>\n",
       "    </tr>\n",
       "    <tr>\n",
       "      <th>4</th>\n",
       "      <td>Tue</td>\n",
       "      <td>Jan 31 • $41.14 • 3 itemsB3. CRAZY CHICKEN BO...</td>\n",
       "    </tr>\n",
       "    <tr>\n",
       "      <th>7</th>\n",
       "      <td>Sweet Caroline Cheesecakes</td>\n",
       "      <td>LLC</td>\n",
       "    </tr>\n",
       "    <tr>\n",
       "      <th>9</th>\n",
       "      <td>Sun</td>\n",
       "      <td>Jan 29 • $29.50 • 2 itemsTiramisu • Key Lime ...</td>\n",
       "    </tr>\n",
       "    <tr>\n",
       "      <th>12</th>\n",
       "      <td>Chipotle</td>\n",
       "      <td></td>\n",
       "    </tr>\n",
       "    <tr>\n",
       "      <th>...</th>\n",
       "      <td>...</td>\n",
       "      <td>...</td>\n",
       "    </tr>\n",
       "    <tr>\n",
       "      <th>1865</th>\n",
       "      <td>Tue</td>\n",
       "      <td>Apr 14 • $24.01 • 2 itemsBasket of Fries • Th...</td>\n",
       "    </tr>\n",
       "    <tr>\n",
       "      <th>1866</th>\n",
       "      <td>Order Cancelled</td>\n",
       "      <td></td>\n",
       "    </tr>\n",
       "    <tr>\n",
       "      <th>1870</th>\n",
       "      <td>Arby's</td>\n",
       "      <td></td>\n",
       "    </tr>\n",
       "    <tr>\n",
       "      <th>1872</th>\n",
       "      <td>Sat</td>\n",
       "      <td>Mar 21 • $30.30 • 3 itemsLarge Curly Fries • ...</td>\n",
       "    </tr>\n",
       "    <tr>\n",
       "      <th>1875</th>\n",
       "      <td>Load More Deliveries</td>\n",
       "      <td></td>\n",
       "    </tr>\n",
       "  </tbody>\n",
       "</table>\n",
       "<p>583 rows × 2 columns</p>\n",
       "</div>"
      ],
      "text/plain": [
       "                         Column1  \\\n",
       "2                      Rice N Go   \n",
       "4                            Tue   \n",
       "7     Sweet Caroline Cheesecakes   \n",
       "9                            Sun   \n",
       "12                      Chipotle   \n",
       "...                          ...   \n",
       "1865                         Tue   \n",
       "1866             Order Cancelled   \n",
       "1870                      Arby's   \n",
       "1872                         Sat   \n",
       "1875        Load More Deliveries   \n",
       "\n",
       "                                                Column2  \n",
       "2                                                        \n",
       "4      Jan 31 • $41.14 • 3 itemsB3. CRAZY CHICKEN BO...  \n",
       "7                                                 LLC    \n",
       "9      Jan 29 • $29.50 • 2 itemsTiramisu • Key Lime ...  \n",
       "12                                                       \n",
       "...                                                 ...  \n",
       "1865   Apr 14 • $24.01 • 2 itemsBasket of Fries • Th...  \n",
       "1866                                                     \n",
       "1870                                                     \n",
       "1872   Mar 21 • $30.30 • 3 itemsLarge Curly Fries • ...  \n",
       "1875                                                     \n",
       "\n",
       "[583 rows x 2 columns]"
      ]
     },
     "execution_count": 8,
     "metadata": {},
     "output_type": "execute_result"
    }
   ],
   "source": [
    "dirty_df"
   ]
  },
  {
   "cell_type": "code",
   "execution_count": 9,
   "id": "2ee0daf0",
   "metadata": {},
   "outputs": [],
   "source": [
    "restaurants = dirty_df.Column1.tolist()\n",
    "days = ['Sun','Mon','Tue','Wed','Thu','Fri','Sat']"
   ]
  },
  {
   "cell_type": "code",
   "execution_count": 10,
   "id": "21a7970d",
   "metadata": {},
   "outputs": [],
   "source": [
    "restaurants=[i for i in restaurants if i not in days]\n",
    "\n",
    "dirty_df=dirty_df[dirty_df.Column1.isin(days) == True]"
   ]
  },
  {
   "cell_type": "code",
   "execution_count": 11,
   "id": "07f09ab2",
   "metadata": {},
   "outputs": [],
   "source": [
    "dirty_df.columns = ['day','details']\n",
    "restaurants.remove('Order Cancelled')\n",
    "restaurants.remove('Load More Deliveries')"
   ]
  },
  {
   "cell_type": "code",
   "execution_count": 12,
   "id": "59e01ee3",
   "metadata": {},
   "outputs": [],
   "source": [
    "restaurants.remove('Order Cancelled')"
   ]
  },
  {
   "cell_type": "code",
   "execution_count": 13,
   "id": "077938d5",
   "metadata": {},
   "outputs": [
    {
     "name": "stderr",
     "output_type": "stream",
     "text": [
      "/var/folders/3p/xpgnq5_d0cz13g99y3v4g03r0000gn/T/ipykernel_47647/787141466.py:1: SettingWithCopyWarning: \n",
      "A value is trying to be set on a copy of a slice from a DataFrame.\n",
      "Try using .loc[row_indexer,col_indexer] = value instead\n",
      "\n",
      "See the caveats in the documentation: https://pandas.pydata.org/pandas-docs/stable/user_guide/indexing.html#returning-a-view-versus-a-copy\n",
      "  dirty_df['restaurant']= restaurants\n"
     ]
    }
   ],
   "source": [
    "dirty_df['restaurant']= restaurants"
   ]
  },
  {
   "cell_type": "code",
   "execution_count": 14,
   "id": "29f15794",
   "metadata": {
    "scrolled": true
   },
   "outputs": [
    {
     "name": "stderr",
     "output_type": "stream",
     "text": [
      "/var/folders/3p/xpgnq5_d0cz13g99y3v4g03r0000gn/T/ipykernel_47647/697764140.py:1: SettingWithCopyWarning: \n",
      "A value is trying to be set on a copy of a slice from a DataFrame.\n",
      "Try using .loc[row_indexer,col_indexer] = value instead\n",
      "\n",
      "See the caveats in the documentation: https://pandas.pydata.org/pandas-docs/stable/user_guide/indexing.html#returning-a-view-versus-a-copy\n",
      "  dirty_df.details=dirty_df.details.str.split('•')\n"
     ]
    }
   ],
   "source": [
    "dirty_df.details=dirty_df.details.str.split('•')"
   ]
  },
  {
   "cell_type": "code",
   "execution_count": 15,
   "id": "b4d3a0a2",
   "metadata": {},
   "outputs": [],
   "source": [
    "dirty_df = dirty_df[(dirty_df.restaurant!='Food City Grocery')&\n",
    "                    (dirty_df.restaurant!='Walgreens')].reset_index()"
   ]
  },
  {
   "cell_type": "code",
   "execution_count": 16,
   "id": "af80ddea",
   "metadata": {},
   "outputs": [
    {
     "data": {
      "text/plain": [
       "Kumo Asian Garden                         49\n",
       "Naan House                                43\n",
       "Lupi's Pizza Pies                         36\n",
       "McAlister's Deli                          25\n",
       "Firehouse Subs                            17\n",
       "Chipotle                                  16\n",
       "DosBros Fresh Mexican Grill               15\n",
       "INACTIVE BIZ DO NOT CHANGE                10\n",
       "Tiger Tea                                  8\n",
       "Taco Bell                                  7\n",
       "Jersey Mike's Subs                         6\n",
       "Freddy's Frozen Custard & Steakburgers     6\n",
       "Rice N Go                                  5\n",
       "Graveyard biz                              4\n",
       "Five Guys Burgers & Fries                  4\n",
       "Buffalo Wild Wings                         3\n",
       "Chick-fil-A                                2\n",
       "Wingstop                                   2\n",
       "Chicken Express                            2\n",
       "Arby's                                     2\n",
       "City Cafe Diner                            2\n",
       "Marco's Pizza                              2\n",
       "It's Just Wings                            1\n",
       "Salsarita's Fresh Mexican Grill            1\n",
       "Terry’s Donut Boswell                      1\n",
       "Miller's Ale House                         1\n",
       "Blue Coast Burrito                         1\n",
       "Cleveland Gyro                             1\n",
       "Fulin's Asian Cuisine                      1\n",
       "Flavors Cuisine Of India                   1\n",
       "Qdoba Mexican Eats                         1\n",
       "Six happiness                              1\n",
       "Amber Indian Indianapolis                  1\n",
       "Coop & Run                                 1\n",
       "Steam Boys                                 1\n",
       "Golden China Restaurant                    1\n",
       "Curry House                                1\n",
       "Panda Express                              1\n",
       "Sweet Caroline Cheesecakes                 1\n",
       "Stadium BBQ                                1\n",
       "Dunkin'                                    1\n",
       "Zaxby's                                    1\n",
       "Name: restaurant, dtype: int64"
      ]
     },
     "execution_count": 16,
     "metadata": {},
     "output_type": "execute_result"
    }
   ],
   "source": [
    "dirty_df.restaurant.value_counts()"
   ]
  },
  {
   "cell_type": "code",
   "execution_count": 17,
   "id": "f1d9b7c0",
   "metadata": {},
   "outputs": [],
   "source": [
    "items=pd.DataFrame(dirty_df.details.tolist())\n",
    "items.columns = ['date','total','item_1','item_2','item_3','item_4','item_5','item_6','item_7','item_8']\n",
    "items.item_1=items.item_1.str.split('items')\n",
    "items.item_1 = items['item_1'].transform({'item1':itemgetter(1)})"
   ]
  },
  {
   "cell_type": "code",
   "execution_count": 18,
   "id": "d47160e2",
   "metadata": {},
   "outputs": [
    {
     "name": "stderr",
     "output_type": "stream",
     "text": [
      "/var/folders/3p/xpgnq5_d0cz13g99y3v4g03r0000gn/T/ipykernel_47647/3423416119.py:1: FutureWarning: The default value of regex will change from True to False in a future version. In addition, single character regular expressions will *not* be treated as literal strings when regex=True.\n",
      "  items.total = items.total.str.replace('$','').astype(float)\n"
     ]
    }
   ],
   "source": [
    "items.total = items.total.str.replace('$','').astype(float)"
   ]
  },
  {
   "cell_type": "code",
   "execution_count": 19,
   "id": "9e14f5cd",
   "metadata": {},
   "outputs": [],
   "source": [
    "df=pd.concat([dirty_df,items],axis=1)"
   ]
  },
  {
   "cell_type": "code",
   "execution_count": 20,
   "id": "98fb1ed4",
   "metadata": {},
   "outputs": [],
   "source": [
    "df=df.drop(columns=['details','index'])"
   ]
  },
  {
   "cell_type": "code",
   "execution_count": 23,
   "id": "059187b6",
   "metadata": {},
   "outputs": [
    {
     "data": {
      "text/plain": [
       "Kumo Asian Garden                         0.171329\n",
       "Naan House                                0.150350\n",
       "Lupi's Pizza Pies                         0.125874\n",
       "McAlister's Deli                          0.087413\n",
       "Firehouse Subs                            0.059441\n",
       "Chipotle                                  0.055944\n",
       "DosBros Fresh Mexican Grill               0.052448\n",
       "INACTIVE BIZ DO NOT CHANGE                0.034965\n",
       "Tiger Tea                                 0.027972\n",
       "Taco Bell                                 0.024476\n",
       "Jersey Mike's Subs                        0.020979\n",
       "Freddy's Frozen Custard & Steakburgers    0.020979\n",
       "Rice N Go                                 0.017483\n",
       "Graveyard biz                             0.013986\n",
       "Five Guys Burgers & Fries                 0.013986\n",
       "Buffalo Wild Wings                        0.010490\n",
       "Chick-fil-A                               0.006993\n",
       "Wingstop                                  0.006993\n",
       "Chicken Express                           0.006993\n",
       "Arby's                                    0.006993\n",
       "City Cafe Diner                           0.006993\n",
       "Marco's Pizza                             0.006993\n",
       "It's Just Wings                           0.003497\n",
       "Salsarita's Fresh Mexican Grill           0.003497\n",
       "Terry’s Donut Boswell                     0.003497\n",
       "Miller's Ale House                        0.003497\n",
       "Blue Coast Burrito                        0.003497\n",
       "Cleveland Gyro                            0.003497\n",
       "Fulin's Asian Cuisine                     0.003497\n",
       "Flavors Cuisine Of India                  0.003497\n",
       "Qdoba Mexican Eats                        0.003497\n",
       "Six happiness                             0.003497\n",
       "Amber Indian Indianapolis                 0.003497\n",
       "Coop & Run                                0.003497\n",
       "Steam Boys                                0.003497\n",
       "Golden China Restaurant                   0.003497\n",
       "Curry House                               0.003497\n",
       "Panda Express                             0.003497\n",
       "Sweet Caroline Cheesecakes                0.003497\n",
       "Stadium BBQ                               0.003497\n",
       "Dunkin'                                   0.003497\n",
       "Zaxby's                                   0.003497\n",
       "Name: restaurant, dtype: float64"
      ]
     },
     "execution_count": 23,
     "metadata": {},
     "output_type": "execute_result"
    }
   ],
   "source": [
    "df.restaurant.value_counts('•')"
   ]
  }
 ],
 "metadata": {
  "kernelspec": {
   "display_name": "Python 3 (ipykernel)",
   "language": "python",
   "name": "python3"
  },
  "language_info": {
   "codemirror_mode": {
    "name": "ipython",
    "version": 3
   },
   "file_extension": ".py",
   "mimetype": "text/x-python",
   "name": "python",
   "nbconvert_exporter": "python",
   "pygments_lexer": "ipython3",
   "version": "3.9.13"
  }
 },
 "nbformat": 4,
 "nbformat_minor": 5
}
