{
 "cells": [
  {
   "cell_type": "code",
   "execution_count": 41,
   "id": "bcc31e5c",
   "metadata": {},
   "outputs": [],
   "source": [
    "import numpy as np\n",
    "import math\n",
    "from bs4 import BeautifulSoup as bs\n",
    "from requests import get\n",
    "import pandas as pd\n",
    "import regex as r"
   ]
  },
  {
   "cell_type": "code",
   "execution_count": 5,
   "id": "7cc7e99c",
   "metadata": {},
   "outputs": [],
   "source": [
    "dirty_df = pd.read_csv('stats.csv')"
   ]
  },
  {
   "cell_type": "code",
   "execution_count": 21,
   "id": "c50eb336",
   "metadata": {},
   "outputs": [],
   "source": [
    "dirty_df.Column1=dirty_df.Column1.astype(str)"
   ]
  },
  {
   "cell_type": "code",
   "execution_count": 28,
   "id": "e46c760e",
   "metadata": {},
   "outputs": [],
   "source": [
    "dirty_df = dirty_df[\n",
    "    (dirty_df.Column1 != 'nan')&\n",
    "    (dirty_df.Column1 != 'ReorderView Receipt')].drop(\n",
    "    columns=['Unnamed: 4','Unnamed: 5','Unnamed: 6','Unnamed: 7'])"
   ]
  },
  {
   "cell_type": "code",
   "execution_count": 46,
   "id": "b4d45701",
   "metadata": {},
   "outputs": [],
   "source": [
    "dirty_df = dirty_df.replace(np.nan,'')"
   ]
  },
  {
   "cell_type": "code",
   "execution_count": 48,
   "id": "8654bc0a",
   "metadata": {
    "scrolled": true
   },
   "outputs": [],
   "source": [
    "dirty_df.Column2=dirty_df.Column2 +' '+ dirty_df.Column3 +' '+ dirty_df.Column4"
   ]
  },
  {
   "cell_type": "code",
   "execution_count": 50,
   "id": "3af7b1f2",
   "metadata": {},
   "outputs": [],
   "source": [
    "dirty_df=dirty_df.drop(columns=['Column3','Column4'])"
   ]
  },
  {
   "cell_type": "code",
   "execution_count": 53,
   "id": "2ee0daf0",
   "metadata": {},
   "outputs": [
    {
     "data": {
      "text/html": [
       "<div>\n",
       "<style scoped>\n",
       "    .dataframe tbody tr th:only-of-type {\n",
       "        vertical-align: middle;\n",
       "    }\n",
       "\n",
       "    .dataframe tbody tr th {\n",
       "        vertical-align: top;\n",
       "    }\n",
       "\n",
       "    .dataframe thead th {\n",
       "        text-align: right;\n",
       "    }\n",
       "</style>\n",
       "<table border=\"1\" class=\"dataframe\">\n",
       "  <thead>\n",
       "    <tr style=\"text-align: right;\">\n",
       "      <th></th>\n",
       "      <th>Column1</th>\n",
       "      <th>Column2</th>\n",
       "    </tr>\n",
       "  </thead>\n",
       "  <tbody>\n",
       "    <tr>\n",
       "      <th>2</th>\n",
       "      <td>Rice N Go</td>\n",
       "      <td></td>\n",
       "    </tr>\n",
       "    <tr>\n",
       "      <th>4</th>\n",
       "      <td>Tue</td>\n",
       "      <td>Jan 31 • $41.14 • 3 itemsB3. CRAZY CHICKEN BO...</td>\n",
       "    </tr>\n",
       "    <tr>\n",
       "      <th>7</th>\n",
       "      <td>Sweet Caroline Cheesecakes</td>\n",
       "      <td>LLC</td>\n",
       "    </tr>\n",
       "    <tr>\n",
       "      <th>9</th>\n",
       "      <td>Sun</td>\n",
       "      <td>Jan 29 • $29.50 • 2 itemsTiramisu • Key Lime ...</td>\n",
       "    </tr>\n",
       "    <tr>\n",
       "      <th>12</th>\n",
       "      <td>Chipotle</td>\n",
       "      <td></td>\n",
       "    </tr>\n",
       "    <tr>\n",
       "      <th>...</th>\n",
       "      <td>...</td>\n",
       "      <td>...</td>\n",
       "    </tr>\n",
       "    <tr>\n",
       "      <th>1866</th>\n",
       "      <td>Order Cancelled</td>\n",
       "      <td></td>\n",
       "    </tr>\n",
       "    <tr>\n",
       "      <th>1870</th>\n",
       "      <td>Arby's</td>\n",
       "      <td></td>\n",
       "    </tr>\n",
       "    <tr>\n",
       "      <th>1872</th>\n",
       "      <td>Sat</td>\n",
       "      <td>Mar 21 • $30.30 • 3 itemsLarge Curly Fries • ...</td>\n",
       "    </tr>\n",
       "    <tr>\n",
       "      <th>1873</th>\n",
       "      <td>• Reviewed on 3/28/20</td>\n",
       "      <td></td>\n",
       "    </tr>\n",
       "    <tr>\n",
       "      <th>1875</th>\n",
       "      <td>Load More Deliveries</td>\n",
       "      <td></td>\n",
       "    </tr>\n",
       "  </tbody>\n",
       "</table>\n",
       "<p>721 rows × 2 columns</p>\n",
       "</div>"
      ],
      "text/plain": [
       "                         Column1  \\\n",
       "2                      Rice N Go   \n",
       "4                            Tue   \n",
       "7     Sweet Caroline Cheesecakes   \n",
       "9                            Sun   \n",
       "12                      Chipotle   \n",
       "...                          ...   \n",
       "1866             Order Cancelled   \n",
       "1870                      Arby's   \n",
       "1872                         Sat   \n",
       "1873       • Reviewed on 3/28/20   \n",
       "1875        Load More Deliveries   \n",
       "\n",
       "                                                Column2  \n",
       "2                                                        \n",
       "4      Jan 31 • $41.14 • 3 itemsB3. CRAZY CHICKEN BO...  \n",
       "7                                                 LLC    \n",
       "9      Jan 29 • $29.50 • 2 itemsTiramisu • Key Lime ...  \n",
       "12                                                       \n",
       "...                                                 ...  \n",
       "1866                                                     \n",
       "1870                                                     \n",
       "1872   Mar 21 • $30.30 • 3 itemsLarge Curly Fries • ...  \n",
       "1873                                                     \n",
       "1875                                                     \n",
       "\n",
       "[721 rows x 2 columns]"
      ]
     },
     "execution_count": 53,
     "metadata": {},
     "output_type": "execute_result"
    }
   ],
   "source": [
    "dirty_df"
   ]
  }
 ],
 "metadata": {
  "kernelspec": {
   "display_name": "Python 3 (ipykernel)",
   "language": "python",
   "name": "python3"
  },
  "language_info": {
   "codemirror_mode": {
    "name": "ipython",
    "version": 3
   },
   "file_extension": ".py",
   "mimetype": "text/x-python",
   "name": "python",
   "nbconvert_exporter": "python",
   "pygments_lexer": "ipython3",
   "version": "3.9.15"
  }
 },
 "nbformat": 4,
 "nbformat_minor": 5
}
